{
 "cells": [
  {
   "cell_type": "code",
   "execution_count": 1,
   "id": "93c359f4",
   "metadata": {},
   "outputs": [],
   "source": [
    "\n",
    "import pandas as pd"
   ]
  },
  {
   "cell_type": "code",
   "execution_count": 2,
   "id": "9eed8ba4",
   "metadata": {},
   "outputs": [],
   "source": [
    "data = {\n",
    "    \"Match 1\": [45, 60, 20, 80, 55],\n",
    "    \"Match 2\": [30, 50, 40, 90, 65],\n",
    "    \"Match 3\": [70, 20, 35, 60, 40],\n",
    "    \"Match 4\": [25, 45, 15, 100, 75],\n",
    "}\n",
    "players = [\"Player 1\", \"Player 2\", \"Player 3\", \"Player 4\", \"Player 5\"]"
   ]
  },
  {
   "cell_type": "code",
   "execution_count": 8,
   "id": "2ecfeb26",
   "metadata": {},
   "outputs": [],
   "source": [
    "play = [\"Player 1\", \"Player 2\", \"Player 3\", \"Player 4\", \"Player 5\"]\n",
    "x = pd.DataFrame(data, index=play)"
   ]
  },
  {
   "cell_type": "code",
   "execution_count": 9,
   "id": "84b88123",
   "metadata": {},
   "outputs": [
    {
     "name": "stdout",
     "output_type": "stream",
     "text": [
      "First three rows:           Match 1  Match 2  Match 3  Match 4\n",
      "Player 1       45       30       70       25\n",
      "Player 2       60       50       20       45\n",
      "Player 3       20       40       35       15\n"
     ]
    }
   ],
   "source": [
    "hd = x.head(3)\n",
    "print(\"First three rows:\",hd)"
   ]
  },
  {
   "cell_type": "code",
   "execution_count": 10,
   "id": "09888278",
   "metadata": {},
   "outputs": [
    {
     "name": "stdout",
     "output_type": "stream",
     "text": [
      "players:5, matches:4\n"
     ]
    }
   ],
   "source": [
    "n_player, n_match = x.shape\n",
    "print(f\"players:{n_player}, matches:{n_match}\")"
   ]
  },
  {
   "cell_type": "code",
   "execution_count": 11,
   "id": "fe617669",
   "metadata": {},
   "outputs": [
    {
     "name": "stdout",
     "output_type": "stream",
     "text": [
      "Matches: ['Match 1', 'Match 2', 'Match 3', 'Match 4']\n",
      "Players: ['Player 1', 'Player 2', 'Player 3', 'Player 4', 'Player 5']\n"
     ]
    }
   ],
   "source": [
    "print(\"Matches:\", x.columns.tolist())\n",
    "print(\"Players:\", x.index.tolist())\n"
   ]
  },
  {
   "cell_type": "code",
   "execution_count": 12,
   "id": "c776c0cc",
   "metadata": {},
   "outputs": [
    {
     "name": "stdout",
     "output_type": "stream",
     "text": [
      "Data type of the elements\n",
      " Match 1    int64\n",
      "Match 2    int64\n",
      "Match 3    int64\n",
      "Match 4    int64\n",
      "dtype: object\n"
     ]
    }
   ],
   "source": [
    "print(\"Data type of the elements\\n\",x.dtypes)"
   ]
  },
  {
   "cell_type": "code",
   "execution_count": 13,
   "id": "dbce1003",
   "metadata": {},
   "outputs": [
    {
     "name": "stdout",
     "output_type": "stream",
     "text": [
      "missing values?\n",
      " 0\n"
     ]
    }
   ],
   "source": [
    "print(\"missing values?\\n\",x.isnull().sum().sum())"
   ]
  },
  {
   "cell_type": "code",
   "execution_count": 14,
   "id": "f4f138fa",
   "metadata": {},
   "outputs": [
    {
     "name": "stdout",
     "output_type": "stream",
     "text": [
      "Scores of Player 4 across all matches:\n",
      " Match 1     80\n",
      "Match 2     90\n",
      "Match 3     60\n",
      "Match 4    100\n",
      "Name: Player 4, dtype: int64\n"
     ]
    }
   ],
   "source": [
    "print(\"Scores of Player 4 across all matches:\\n\",x.loc[\"Player 4\"])"
   ]
  },
  {
   "cell_type": "code",
   "execution_count": 15,
   "id": "3076e9f3",
   "metadata": {},
   "outputs": [
    {
     "name": "stdout",
     "output_type": "stream",
     "text": [
      "Scores in Match 2:\n",
      " Player 1    30\n",
      "Player 2    50\n",
      "Player 3    40\n",
      "Player 4    90\n",
      "Player 5    65\n",
      "Name: Match 2, dtype: int64\n"
     ]
    }
   ],
   "source": [
    "print(\"Scores in Match 2:\\n\",x[\"Match 2\"])"
   ]
  },
  {
   "cell_type": "code",
   "execution_count": 17,
   "id": "3ce270d9",
   "metadata": {},
   "outputs": [
    {
     "name": "stdout",
     "output_type": "stream",
     "text": [
      "\n",
      "Scores of Player 1 and Player 3 for Match 1 and Match 4:\n",
      "          Match 1  Match 4\n",
      "Player 1       45       25\n",
      "Player 3       20       15\n"
     ]
    }
   ],
   "source": [
    "print(\"\\nScores of Player 1 and Player 3 for Match 1 and Match 4:\")\n",
    "print(x.loc[[\"Player 1\", \"Player 3\"], [\"Match 1\", \"Match 4\"]])\n"
   ]
  },
  {
   "cell_type": "code",
   "execution_count": 18,
   "id": "1f74a757",
   "metadata": {},
   "outputs": [
    {
     "name": "stdout",
     "output_type": "stream",
     "text": [
      "\n",
      ":Scores of the first 3 players and the first 2 matches:\n",
      "          Match 1  Match 2\n",
      "Player 1       45       30\n",
      "Player 2       60       50\n",
      "Player 3       20       40\n"
     ]
    }
   ],
   "source": [
    "print(\"\\n:Scores of the first 3 players and the first 2 matches:\")\n",
    "print(x.iloc[:3, :2])"
   ]
  },
  {
   "cell_type": "code",
   "execution_count": 19,
   "id": "a0ba1834",
   "metadata": {},
   "outputs": [
    {
     "name": "stdout",
     "output_type": "stream",
     "text": [
      "\n",
      "Score of Player 5 in Match 3:\n",
      "40\n"
     ]
    }
   ],
   "source": [
    "print(\"\\nScore of Player 5 in Match 3:\")\n",
    "print(x.loc[\"Player 5\", \"Match 3\"])"
   ]
  },
  {
   "cell_type": "code",
   "execution_count": 20,
   "id": "937ba1bd",
   "metadata": {},
   "outputs": [
    {
     "name": "stdout",
     "output_type": "stream",
     "text": [
      "\n",
      "Updated performance after changing Player 2's score in Match 4:\n",
      "          Match 1  Match 2  Match 3  Match 4\n",
      "Player 1       45       30       70       25\n",
      "Player 2       60       50       20       50\n",
      "Player 3       20       40       35       15\n",
      "Player 4       80       90       60      100\n",
      "Player 5       55       65       40       75\n"
     ]
    }
   ],
   "source": [
    "x.loc[\"Player 2\", \"Match 4\"] = 50\n",
    "print(\"\\nUpdated performance after changing Player 2's score in Match 4:\")\n",
    "print(x)"
   ]
  },
  {
   "cell_type": "code",
   "execution_count": 21,
   "id": "a8033f83",
   "metadata": {},
   "outputs": [
    {
     "name": "stdout",
     "output_type": "stream",
     "text": [
      "\n",
      "Performance after adding Player 6:\n",
      "          Match 1  Match 2  Match 3  Match 4\n",
      "Player 1       45       30       70       25\n",
      "Player 2       60       50       20       50\n",
      "Player 3       20       40       35       15\n",
      "Player 4       80       90       60      100\n",
      "Player 5       55       65       40       75\n",
      "Player 6       50       40       60       70\n"
     ]
    }
   ],
   "source": [
    "x.loc[\"Player 6\"] = [50, 40, 60, 70]\n",
    "print(\"\\nPerformance after adding Player 6:\")\n",
    "print(x)\n",
    "\n",
    " "
   ]
  },
  {
   "cell_type": "code",
   "execution_count": 22,
   "id": "f76bf78e",
   "metadata": {},
   "outputs": [
    {
     "name": "stdout",
     "output_type": "stream",
     "text": [
      "\n",
      "Performance after adding 10 bonus runs to each score:\n",
      "          Match 1  Match 2  Match 3  Match 4\n",
      "Player 1       55       40       80       35\n",
      "Player 2       70       60       30       60\n",
      "Player 3       30       50       45       25\n",
      "Player 4       90      100       70      110\n",
      "Player 5       65       75       50       85\n",
      "Player 6       60       50       70       80\n"
     ]
    }
   ],
   "source": [
    "x = x + 10\n",
    "print(\"\\nPerformance after adding 10 bonus runs to each score:\")\n",
    "print(x)"
   ]
  },
  {
   "cell_type": "code",
   "execution_count": 23,
   "id": "95bad608",
   "metadata": {},
   "outputs": [
    {
     "name": "stdout",
     "output_type": "stream",
     "text": [
      "\n",
      "Performance after deducting 5 runs from Player 3:\n",
      "          Match 1  Match 2  Match 3  Match 4\n",
      "Player 1       55       40       80       35\n",
      "Player 2       70       60       30       60\n",
      "Player 3       25       45       40       20\n",
      "Player 4       90      100       70      110\n",
      "Player 5       65       75       50       85\n",
      "Player 6       60       50       70       80\n"
     ]
    }
   ],
   "source": [
    "x.loc[\"Player 3\"] = x.loc[\"Player 3\"] - 5\n",
    "print(\"\\nPerformance after deducting 5 runs from Player 3:\")\n",
    "print(x)"
   ]
  },
  {
   "cell_type": "code",
   "execution_count": 24,
   "id": "d4513923",
   "metadata": {},
   "outputs": [
    {
     "name": "stdout",
     "output_type": "stream",
     "text": [
      "\n",
      "Total runs scored by each player:\n",
      "Player 1    210\n",
      "Player 2    220\n",
      "Player 3    130\n",
      "Player 4    370\n",
      "Player 5    275\n",
      "Player 6    260\n",
      "Name: Total Runs, dtype: int64\n"
     ]
    }
   ],
   "source": [
    "x[\"Total Runs\"] = x.sum(axis=1)  # Total runs for each player across matches\n",
    "print(\"\\nTotal runs scored by each player:\")\n",
    "print(x[\"Total Runs\"])\n"
   ]
  },
  {
   "cell_type": "code",
   "execution_count": 25,
   "id": "33369e04",
   "metadata": {},
   "outputs": [
    {
     "name": "stdout",
     "output_type": "stream",
     "text": [
      "\n",
      "Total runs scored in each match:\n",
      "Match 1    365\n",
      "Match 2    370\n",
      "Match 3    340\n",
      "Match 4    390\n",
      "dtype: int64\n"
     ]
    }
   ],
   "source": [
    "total_runs_per_match = x.drop(columns=\"Total Runs\").sum(axis=0)  # Total runs per match (excluding 'Total Runs' column)\n",
    "print(\"\\nTotal runs scored in each match:\")\n",
    "print(total_runs_per_match)\n"
   ]
  },
  {
   "cell_type": "code",
   "execution_count": 26,
   "id": "8680e77b",
   "metadata": {},
   "outputs": [
    {
     "name": "stdout",
     "output_type": "stream",
     "text": [
      "\n",
      "Player with the highest total runs:\n",
      "Player 4\n"
     ]
    }
   ],
   "source": [
    "highest_total_runs_player = x[\"Total Runs\"].idxmax()\n",
    "print(\"\\nPlayer with the highest total runs:\")\n",
    "print(highest_total_runs_player)"
   ]
  },
  {
   "cell_type": "code",
   "execution_count": 27,
   "id": "eb1d4a0c",
   "metadata": {},
   "outputs": [
    {
     "name": "stdout",
     "output_type": "stream",
     "text": [
      "\n",
      "Match with the lowest total runs:\n",
      "Match 3\n"
     ]
    }
   ],
   "source": [
    "lowest_total_runs_match = total_runs_per_match.idxmin()  # Find the match with lowest total runs\n",
    "print(\"\\nMatch with the lowest total runs:\")\n",
    "print(lowest_total_runs_match)"
   ]
  },
  {
   "cell_type": "code",
   "execution_count": 28,
   "id": "8df6780a",
   "metadata": {},
   "outputs": [
    {
     "name": "stdout",
     "output_type": "stream",
     "text": [
      "\n",
      "Average runs scored by each player:\n",
      "Player 1    42.0\n",
      "Player 2    44.0\n",
      "Player 3    26.0\n",
      "Player 4    74.0\n",
      "Player 5    55.0\n",
      "Player 6    52.0\n",
      "Name: Total Runs, dtype: float64\n"
     ]
    }
   ],
   "source": [
    "average_runs_per_player = x[\"Total Runs\"] / 5\n",
    "print(\"\\nAverage runs scored by each player:\")\n",
    "print(average_runs_per_player)\n"
   ]
  },
  {
   "cell_type": "code",
   "execution_count": 29,
   "id": "9d7df0b5",
   "metadata": {},
   "outputs": [
    {
     "name": "stdout",
     "output_type": "stream",
     "text": [
      "\n",
      "DataFrame sorted by Total Runs in descending order:\n",
      "          Match 1  Match 2  Match 3  Match 4  Total Runs\n",
      "Player 4       90      100       70      110         370\n",
      "Player 5       65       75       50       85         275\n",
      "Player 6       60       50       70       80         260\n",
      "Player 2       70       60       30       60         220\n",
      "Player 1       55       40       80       35         210\n",
      "Player 3       25       45       40       20         130\n"
     ]
    }
   ],
   "source": [
    "x_sorted = x.sort_values(by=\"Total Runs\", ascending=False)\n",
    "print(\"\\nDataFrame sorted by Total Runs in descending order:\")\n",
    "print(x_sorted)"
   ]
  },
  {
   "cell_type": "code",
   "execution_count": 30,
   "id": "6fffd0fc",
   "metadata": {},
   "outputs": [
    {
     "name": "stdout",
     "output_type": "stream",
     "text": [
      "\n",
      "Players who scored more than 200 runs:\n",
      "          Match 1  Match 2  Match 3  Match 4  Total Runs\n",
      "Player 1       55       40       80       35         210\n",
      "Player 2       70       60       30       60         220\n",
      "Player 4       90      100       70      110         370\n",
      "Player 5       65       75       50       85         275\n",
      "Player 6       60       50       70       80         260\n"
     ]
    }
   ],
   "source": [
    "players_over_200_runs = x[x[\"Total Runs\"] > 200]\n",
    "print(\"\\nPlayers who scored more than 200 runs:\")\n",
    "print(players_over_200_runs)"
   ]
  },
  {
   "cell_type": "code",
   "execution_count": null,
   "id": "7a2923e5",
   "metadata": {},
   "outputs": [],
   "source": []
  }
 ],
 "metadata": {
  "kernelspec": {
   "display_name": "Python 3 (ipykernel)",
   "language": "python",
   "name": "python3"
  },
  "language_info": {
   "codemirror_mode": {
    "name": "ipython",
    "version": 3
   },
   "file_extension": ".py",
   "mimetype": "text/x-python",
   "name": "python",
   "nbconvert_exporter": "python",
   "pygments_lexer": "ipython3",
   "version": "3.11.4"
  }
 },
 "nbformat": 4,
 "nbformat_minor": 5
}
